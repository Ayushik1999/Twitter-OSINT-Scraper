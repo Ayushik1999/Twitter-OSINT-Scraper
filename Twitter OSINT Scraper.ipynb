{
 "cells": [
  {
   "cell_type": "code",
   "execution_count": null,
   "id": "826b02fe-c3fb-4d1c-95ca-5af8b74b5120",
   "metadata": {},
   "outputs": [],
   "source": [
    "import snscrape.modules.twitter as sntwitter\n",
    "import pandas as pd\n",
    "import re\n",
    "\n",
    "#the actual query/account from which you need to take the tweets from\n",
    "query = \"(from:anciliainc)\"\n",
    "tweets = []\n",
    "\n",
    "#limit of tweets taken at a time from the top\n",
    "limit = 10\n",
    "\n",
    "#RE for ETH address\n",
    "re1 = \"0x[a-fA-F0-9]{40}\"\n",
    "\n",
    "#RE for BTC address\n",
    "re2 = \"[13][a-km-zA-HJ-NP-Z1-9]{25,34}\"\n",
    "for tweet in sntwitter.TwitterSearchScraper(query).get_items():\n",
    "    if len(tweets)==limit:\n",
    "        break\n",
    "    else:\n",
    "        x=[]\n",
    "        row = str(tweet.content)\n",
    "        all_match = re.compile(\"(%s|%s)\" % (re1, re2)).findall(row) \n",
    "        for match in all_match:\n",
    "            #print(match)\n",
    "            x.append(match)\n",
    "        print(x)\n",
    "        tweets.append([tweet.date, tweet.username, tweet.content, all_match])\n",
    "   \n",
    "\n",
    "df = pd.DataFrame(tweets, columns=['Date','User','Tweet','Address'])\n",
    "\n",
    "#if you need to transfer the output to a .csv file.\n",
    "#df.to_csv(\"Addresses.csv\")\n",
    "\n",
    "\n",
    "print(df)"
   ]
  },
  {
   "cell_type": "code",
   "execution_count": null,
   "id": "94f5bcd0-4e19-450e-bf17-66a4055a7aca",
   "metadata": {},
   "outputs": [],
   "source": []
  }
 ],
 "metadata": {
  "kernelspec": {
   "display_name": "Python 3 (ipykernel)",
   "language": "python",
   "name": "python3"
  },
  "language_info": {
   "codemirror_mode": {
    "name": "ipython",
    "version": 3
   },
   "file_extension": ".py",
   "mimetype": "text/x-python",
   "name": "python",
   "nbconvert_exporter": "python",
   "pygments_lexer": "ipython3",
   "version": "3.12.7"
  }
 },
 "nbformat": 4,
 "nbformat_minor": 5
}
